{
 "cells": [
  {
   "cell_type": "markdown",
   "metadata": {},
   "source": [
    "#### 시계열 데이터의 EDA"
   ]
  },
  {
   "cell_type": "code",
   "execution_count": null,
   "metadata": {
    "vscode": {
     "languageId": "r"
    }
   },
   "outputs": [],
   "source": [
    "# EDA(Exploratory Data Analysis, 탐색적 데이터 분석)\n",
    "# 시간을 가장 많이 쏟는 단계"
   ]
  },
  {
   "cell_type": "markdown",
   "metadata": {},
   "source": [
    "* 상태 공간 모형을 사용하는 것은 기존의 예측 문제와 더불어 현재 혹은 상태 변수 값을 추정하는 것을 목표로 한다는 것을 뜻함\n",
    "* 대표적으로 필터링(filtering) 문제와 스무딩(smoothing)문제가 있다.\n",
    "\n",
    "\n",
    "* **상태공간모형**(state-space model)이란\n",
    "* 과거 데이터를 이용하여 현재값, 미래값을 추측\n",
    "  * j < t --> Prediction\n",
    "  * j = t --> Filter\n",
    "  * j > t --> Smoothing"
   ]
  },
  {
   "cell_type": "markdown",
   "metadata": {},
   "source": [
    "### 평활화(Smoothing)\n",
    "* Smoothing 문제는 현재까지 수집한 관측자 y1, ..., yt 를 이요해서 현재까지의 상태 변수 히스토리 x1, ..., xt를 전체를 모두 재추정하는 문제\n",
    "* 금융 분야에서 팩터 모형(factor model)의 계수를 추정하는 문제도 스무딩 문제에 속한다. 또한 시계열 자료 중 누락한 자료(missing data)가 있는 경우에도 스무딩 문제 해결을 통해 누락된 자료를 추정할 수 있다.\n",
    "\n",
    "* 시계열 자료에서 무작위성을 줄이는 기법\n",
    "* Smoothing 개념에서 Filter를 포함하기도 함\n",
    "\n",
    "1. 이동평균 평활법(Moving Average, MA Smoothing) : \n",
    "    * 장점: Smoothing할 때 계속 평균이 이동함에 따라 최신의 값을 반영 가능하다는\n",
    "    * 단점: 최신의 값과 예전 값이 모두 기본적으로 동일하게 평균이 들어감\n",
    "2. 지수 평활법(Exponential Smoothing): 단순 지수평활, 이중 지수평활\n",
    "    * 90일 전의 주식 데이터가 현재의 주식 예측 값에 영향을 적게 미치는 것 처럼 즉, 최근의 데이터가 가중치에 조금 더 영향을 많이 주도록, 예전 값에 decay를 넣어주는 것\n",
    "3. OLS Smoothing(회귀모형 평활법)\n",
    "4. Holt-Winters\n",
    "5. Kernel Smoothing"
   ]
  },
  {
   "cell_type": "code",
   "execution_count": 4,
   "metadata": {
    "vscode": {
     "languageId": "r"
    }
   },
   "outputs": [
    {
     "data": {
      "text/html": [
       "<table class=\"dataframe\">\n",
       "<caption>A Time Series: 12 × 12</caption>\n",
       "<thead>\n",
       "\t<tr><th></th><th scope=col>Jan</th><th scope=col>Feb</th><th scope=col>Mar</th><th scope=col>Apr</th><th scope=col>May</th><th scope=col>Jun</th><th scope=col>Jul</th><th scope=col>Aug</th><th scope=col>Sep</th><th scope=col>Oct</th><th scope=col>Nov</th><th scope=col>Dec</th></tr>\n",
       "</thead>\n",
       "<tbody>\n",
       "\t<tr><th scope=row>1949</th><td>112</td><td>118</td><td>132</td><td>129</td><td>121</td><td>135</td><td>148</td><td>148</td><td>136</td><td>119</td><td>104</td><td>118</td></tr>\n",
       "\t<tr><th scope=row>1950</th><td>115</td><td>126</td><td>141</td><td>135</td><td>125</td><td>149</td><td>170</td><td>170</td><td>158</td><td>133</td><td>114</td><td>140</td></tr>\n",
       "\t<tr><th scope=row>1951</th><td>145</td><td>150</td><td>178</td><td>163</td><td>172</td><td>178</td><td>199</td><td>199</td><td>184</td><td>162</td><td>146</td><td>166</td></tr>\n",
       "\t<tr><th scope=row>1952</th><td>171</td><td>180</td><td>193</td><td>181</td><td>183</td><td>218</td><td>230</td><td>242</td><td>209</td><td>191</td><td>172</td><td>194</td></tr>\n",
       "\t<tr><th scope=row>1953</th><td>196</td><td>196</td><td>236</td><td>235</td><td>229</td><td>243</td><td>264</td><td>272</td><td>237</td><td>211</td><td>180</td><td>201</td></tr>\n",
       "\t<tr><th scope=row>1954</th><td>204</td><td>188</td><td>235</td><td>227</td><td>234</td><td>264</td><td>302</td><td>293</td><td>259</td><td>229</td><td>203</td><td>229</td></tr>\n",
       "\t<tr><th scope=row>1955</th><td>242</td><td>233</td><td>267</td><td>269</td><td>270</td><td>315</td><td>364</td><td>347</td><td>312</td><td>274</td><td>237</td><td>278</td></tr>\n",
       "\t<tr><th scope=row>1956</th><td>284</td><td>277</td><td>317</td><td>313</td><td>318</td><td>374</td><td>413</td><td>405</td><td>355</td><td>306</td><td>271</td><td>306</td></tr>\n",
       "\t<tr><th scope=row>1957</th><td>315</td><td>301</td><td>356</td><td>348</td><td>355</td><td>422</td><td>465</td><td>467</td><td>404</td><td>347</td><td>305</td><td>336</td></tr>\n",
       "\t<tr><th scope=row>1958</th><td>340</td><td>318</td><td>362</td><td>348</td><td>363</td><td>435</td><td>491</td><td>505</td><td>404</td><td>359</td><td>310</td><td>337</td></tr>\n",
       "\t<tr><th scope=row>1959</th><td>360</td><td>342</td><td>406</td><td>396</td><td>420</td><td>472</td><td>548</td><td>559</td><td>463</td><td>407</td><td>362</td><td>405</td></tr>\n",
       "\t<tr><th scope=row>1960</th><td>417</td><td>391</td><td>419</td><td>461</td><td>472</td><td>535</td><td>622</td><td>606</td><td>508</td><td>461</td><td>390</td><td>432</td></tr>\n",
       "</tbody>\n",
       "</table>\n"
      ],
      "text/latex": [
       "A Time Series: 12 × 12\n",
       "\\begin{tabular}{r|llllllllllll}\n",
       "  & Jan & Feb & Mar & Apr & May & Jun & Jul & Aug & Sep & Oct & Nov & Dec\\\\\n",
       "\\hline\n",
       "\t1949 & 112 & 118 & 132 & 129 & 121 & 135 & 148 & 148 & 136 & 119 & 104 & 118\\\\\n",
       "\t1950 & 115 & 126 & 141 & 135 & 125 & 149 & 170 & 170 & 158 & 133 & 114 & 140\\\\\n",
       "\t1951 & 145 & 150 & 178 & 163 & 172 & 178 & 199 & 199 & 184 & 162 & 146 & 166\\\\\n",
       "\t1952 & 171 & 180 & 193 & 181 & 183 & 218 & 230 & 242 & 209 & 191 & 172 & 194\\\\\n",
       "\t1953 & 196 & 196 & 236 & 235 & 229 & 243 & 264 & 272 & 237 & 211 & 180 & 201\\\\\n",
       "\t1954 & 204 & 188 & 235 & 227 & 234 & 264 & 302 & 293 & 259 & 229 & 203 & 229\\\\\n",
       "\t1955 & 242 & 233 & 267 & 269 & 270 & 315 & 364 & 347 & 312 & 274 & 237 & 278\\\\\n",
       "\t1956 & 284 & 277 & 317 & 313 & 318 & 374 & 413 & 405 & 355 & 306 & 271 & 306\\\\\n",
       "\t1957 & 315 & 301 & 356 & 348 & 355 & 422 & 465 & 467 & 404 & 347 & 305 & 336\\\\\n",
       "\t1958 & 340 & 318 & 362 & 348 & 363 & 435 & 491 & 505 & 404 & 359 & 310 & 337\\\\\n",
       "\t1959 & 360 & 342 & 406 & 396 & 420 & 472 & 548 & 559 & 463 & 407 & 362 & 405\\\\\n",
       "\t1960 & 417 & 391 & 419 & 461 & 472 & 535 & 622 & 606 & 508 & 461 & 390 & 432\\\\\n",
       "\\end{tabular}\n"
      ],
      "text/markdown": [
       "\n",
       "A Time Series: 12 × 12\n",
       "\n",
       "| <!--/--> | Jan | Feb | Mar | Apr | May | Jun | Jul | Aug | Sep | Oct | Nov | Dec |\n",
       "|---|---|---|---|---|---|---|---|---|---|---|---|---|\n",
       "| 1949 | 112 | 118 | 132 | 129 | 121 | 135 | 148 | 148 | 136 | 119 | 104 | 118 |\n",
       "| 1950 | 115 | 126 | 141 | 135 | 125 | 149 | 170 | 170 | 158 | 133 | 114 | 140 |\n",
       "| 1951 | 145 | 150 | 178 | 163 | 172 | 178 | 199 | 199 | 184 | 162 | 146 | 166 |\n",
       "| 1952 | 171 | 180 | 193 | 181 | 183 | 218 | 230 | 242 | 209 | 191 | 172 | 194 |\n",
       "| 1953 | 196 | 196 | 236 | 235 | 229 | 243 | 264 | 272 | 237 | 211 | 180 | 201 |\n",
       "| 1954 | 204 | 188 | 235 | 227 | 234 | 264 | 302 | 293 | 259 | 229 | 203 | 229 |\n",
       "| 1955 | 242 | 233 | 267 | 269 | 270 | 315 | 364 | 347 | 312 | 274 | 237 | 278 |\n",
       "| 1956 | 284 | 277 | 317 | 313 | 318 | 374 | 413 | 405 | 355 | 306 | 271 | 306 |\n",
       "| 1957 | 315 | 301 | 356 | 348 | 355 | 422 | 465 | 467 | 404 | 347 | 305 | 336 |\n",
       "| 1958 | 340 | 318 | 362 | 348 | 363 | 435 | 491 | 505 | 404 | 359 | 310 | 337 |\n",
       "| 1959 | 360 | 342 | 406 | 396 | 420 | 472 | 548 | 559 | 463 | 407 | 362 | 405 |\n",
       "| 1960 | 417 | 391 | 419 | 461 | 472 | 535 | 622 | 606 | 508 | 461 | 390 | 432 |\n",
       "\n"
      ],
      "text/plain": [
       "     Jan Feb Mar Apr May Jun Jul Aug Sep Oct Nov Dec\n",
       "1949 112 118 132 129 121 135 148 148 136 119 104 118\n",
       "1950 115 126 141 135 125 149 170 170 158 133 114 140\n",
       "1951 145 150 178 163 172 178 199 199 184 162 146 166\n",
       "1952 171 180 193 181 183 218 230 242 209 191 172 194\n",
       "1953 196 196 236 235 229 243 264 272 237 211 180 201\n",
       "1954 204 188 235 227 234 264 302 293 259 229 203 229\n",
       "1955 242 233 267 269 270 315 364 347 312 274 237 278\n",
       "1956 284 277 317 313 318 374 413 405 355 306 271 306\n",
       "1957 315 301 356 348 355 422 465 467 404 347 305 336\n",
       "1958 340 318 362 348 363 435 491 505 404 359 310 337\n",
       "1959 360 342 406 396 420 472 548 559 463 407 362 405\n",
       "1960 417 391 419 461 472 535 622 606 508 461 390 432"
      ]
     },
     "metadata": {},
     "output_type": "display_data"
    }
   ],
   "source": [
    "data(\"AirPassengers\")\n",
    "AirPassengers"
   ]
  },
  {
   "cell_type": "code",
   "execution_count": 7,
   "metadata": {
    "vscode": {
     "languageId": "r"
    }
   },
   "outputs": [
    {
     "data": {
      "text/html": [
       "<table class=\"dataframe\">\n",
       "<caption>A Time Series: 12 × 12</caption>\n",
       "<thead>\n",
       "\t<tr><th></th><th scope=col>Jan</th><th scope=col>Feb</th><th scope=col>Mar</th><th scope=col>Apr</th><th scope=col>May</th><th scope=col>Jun</th><th scope=col>Jul</th><th scope=col>Aug</th><th scope=col>Sep</th><th scope=col>Oct</th><th scope=col>Nov</th><th scope=col>Dec</th></tr>\n",
       "</thead>\n",
       "<tbody>\n",
       "\t<tr><th scope=row>1949</th><td>      NA</td><td>120.6667</td><td>126.3333</td><td>127.3333</td><td>128.3333</td><td>134.6667</td><td>143.6667</td><td>144.0000</td><td>134.3333</td><td>119.6667</td><td>113.6667</td><td>112.3333</td></tr>\n",
       "\t<tr><th scope=row>1950</th><td>119.6667</td><td>127.3333</td><td>134.0000</td><td>133.6667</td><td>136.3333</td><td>148.0000</td><td>163.0000</td><td>166.0000</td><td>153.6667</td><td>135.0000</td><td>129.0000</td><td>133.0000</td></tr>\n",
       "\t<tr><th scope=row>1951</th><td>145.0000</td><td>157.6667</td><td>163.6667</td><td>171.0000</td><td>171.0000</td><td>183.0000</td><td>192.0000</td><td>194.0000</td><td>181.6667</td><td>164.0000</td><td>158.0000</td><td>161.0000</td></tr>\n",
       "\t<tr><th scope=row>1952</th><td>172.3333</td><td>181.3333</td><td>184.6667</td><td>185.6667</td><td>194.0000</td><td>210.3333</td><td>230.0000</td><td>227.0000</td><td>214.0000</td><td>190.6667</td><td>185.6667</td><td>187.3333</td></tr>\n",
       "\t<tr><th scope=row>1953</th><td>195.3333</td><td>209.3333</td><td>222.3333</td><td>233.3333</td><td>235.6667</td><td>245.3333</td><td>259.6667</td><td>257.6667</td><td>240.0000</td><td>209.3333</td><td>197.3333</td><td>195.0000</td></tr>\n",
       "\t<tr><th scope=row>1954</th><td>197.6667</td><td>209.0000</td><td>216.6667</td><td>232.0000</td><td>241.6667</td><td>266.6667</td><td>286.3333</td><td>284.6667</td><td>260.3333</td><td>230.3333</td><td>220.3333</td><td>224.6667</td></tr>\n",
       "\t<tr><th scope=row>1955</th><td>234.6667</td><td>247.3333</td><td>256.3333</td><td>268.6667</td><td>284.6667</td><td>316.3333</td><td>342.0000</td><td>341.0000</td><td>311.0000</td><td>274.3333</td><td>263.0000</td><td>266.3333</td></tr>\n",
       "\t<tr><th scope=row>1956</th><td>279.6667</td><td>292.6667</td><td>302.3333</td><td>316.0000</td><td>335.0000</td><td>368.3333</td><td>397.3333</td><td>391.0000</td><td>355.3333</td><td>310.6667</td><td>294.3333</td><td>297.3333</td></tr>\n",
       "\t<tr><th scope=row>1957</th><td>307.3333</td><td>324.0000</td><td>335.0000</td><td>353.0000</td><td>375.0000</td><td>414.0000</td><td>451.3333</td><td>445.3333</td><td>406.0000</td><td>352.0000</td><td>329.3333</td><td>327.0000</td></tr>\n",
       "\t<tr><th scope=row>1958</th><td>331.3333</td><td>340.0000</td><td>342.6667</td><td>357.6667</td><td>382.0000</td><td>429.6667</td><td>477.0000</td><td>466.6667</td><td>422.6667</td><td>357.6667</td><td>335.3333</td><td>335.6667</td></tr>\n",
       "\t<tr><th scope=row>1959</th><td>346.3333</td><td>369.3333</td><td>381.3333</td><td>407.3333</td><td>429.3333</td><td>480.0000</td><td>526.3333</td><td>523.3333</td><td>476.3333</td><td>410.6667</td><td>391.3333</td><td>394.6667</td></tr>\n",
       "\t<tr><th scope=row>1960</th><td>404.3333</td><td>409.0000</td><td>423.6667</td><td>450.6667</td><td>489.3333</td><td>543.0000</td><td>587.6667</td><td>578.6667</td><td>525.0000</td><td>453.0000</td><td>427.6667</td><td>      NA</td></tr>\n",
       "</tbody>\n",
       "</table>\n"
      ],
      "text/latex": [
       "A Time Series: 12 × 12\n",
       "\\begin{tabular}{r|llllllllllll}\n",
       "  & Jan & Feb & Mar & Apr & May & Jun & Jul & Aug & Sep & Oct & Nov & Dec\\\\\n",
       "\\hline\n",
       "\t1949 &       NA & 120.6667 & 126.3333 & 127.3333 & 128.3333 & 134.6667 & 143.6667 & 144.0000 & 134.3333 & 119.6667 & 113.6667 & 112.3333\\\\\n",
       "\t1950 & 119.6667 & 127.3333 & 134.0000 & 133.6667 & 136.3333 & 148.0000 & 163.0000 & 166.0000 & 153.6667 & 135.0000 & 129.0000 & 133.0000\\\\\n",
       "\t1951 & 145.0000 & 157.6667 & 163.6667 & 171.0000 & 171.0000 & 183.0000 & 192.0000 & 194.0000 & 181.6667 & 164.0000 & 158.0000 & 161.0000\\\\\n",
       "\t1952 & 172.3333 & 181.3333 & 184.6667 & 185.6667 & 194.0000 & 210.3333 & 230.0000 & 227.0000 & 214.0000 & 190.6667 & 185.6667 & 187.3333\\\\\n",
       "\t1953 & 195.3333 & 209.3333 & 222.3333 & 233.3333 & 235.6667 & 245.3333 & 259.6667 & 257.6667 & 240.0000 & 209.3333 & 197.3333 & 195.0000\\\\\n",
       "\t1954 & 197.6667 & 209.0000 & 216.6667 & 232.0000 & 241.6667 & 266.6667 & 286.3333 & 284.6667 & 260.3333 & 230.3333 & 220.3333 & 224.6667\\\\\n",
       "\t1955 & 234.6667 & 247.3333 & 256.3333 & 268.6667 & 284.6667 & 316.3333 & 342.0000 & 341.0000 & 311.0000 & 274.3333 & 263.0000 & 266.3333\\\\\n",
       "\t1956 & 279.6667 & 292.6667 & 302.3333 & 316.0000 & 335.0000 & 368.3333 & 397.3333 & 391.0000 & 355.3333 & 310.6667 & 294.3333 & 297.3333\\\\\n",
       "\t1957 & 307.3333 & 324.0000 & 335.0000 & 353.0000 & 375.0000 & 414.0000 & 451.3333 & 445.3333 & 406.0000 & 352.0000 & 329.3333 & 327.0000\\\\\n",
       "\t1958 & 331.3333 & 340.0000 & 342.6667 & 357.6667 & 382.0000 & 429.6667 & 477.0000 & 466.6667 & 422.6667 & 357.6667 & 335.3333 & 335.6667\\\\\n",
       "\t1959 & 346.3333 & 369.3333 & 381.3333 & 407.3333 & 429.3333 & 480.0000 & 526.3333 & 523.3333 & 476.3333 & 410.6667 & 391.3333 & 394.6667\\\\\n",
       "\t1960 & 404.3333 & 409.0000 & 423.6667 & 450.6667 & 489.3333 & 543.0000 & 587.6667 & 578.6667 & 525.0000 & 453.0000 & 427.6667 &       NA\\\\\n",
       "\\end{tabular}\n"
      ],
      "text/markdown": [
       "\n",
       "A Time Series: 12 × 12\n",
       "\n",
       "| <!--/--> | Jan | Feb | Mar | Apr | May | Jun | Jul | Aug | Sep | Oct | Nov | Dec |\n",
       "|---|---|---|---|---|---|---|---|---|---|---|---|---|\n",
       "| 1949 |       NA | 120.6667 | 126.3333 | 127.3333 | 128.3333 | 134.6667 | 143.6667 | 144.0000 | 134.3333 | 119.6667 | 113.6667 | 112.3333 |\n",
       "| 1950 | 119.6667 | 127.3333 | 134.0000 | 133.6667 | 136.3333 | 148.0000 | 163.0000 | 166.0000 | 153.6667 | 135.0000 | 129.0000 | 133.0000 |\n",
       "| 1951 | 145.0000 | 157.6667 | 163.6667 | 171.0000 | 171.0000 | 183.0000 | 192.0000 | 194.0000 | 181.6667 | 164.0000 | 158.0000 | 161.0000 |\n",
       "| 1952 | 172.3333 | 181.3333 | 184.6667 | 185.6667 | 194.0000 | 210.3333 | 230.0000 | 227.0000 | 214.0000 | 190.6667 | 185.6667 | 187.3333 |\n",
       "| 1953 | 195.3333 | 209.3333 | 222.3333 | 233.3333 | 235.6667 | 245.3333 | 259.6667 | 257.6667 | 240.0000 | 209.3333 | 197.3333 | 195.0000 |\n",
       "| 1954 | 197.6667 | 209.0000 | 216.6667 | 232.0000 | 241.6667 | 266.6667 | 286.3333 | 284.6667 | 260.3333 | 230.3333 | 220.3333 | 224.6667 |\n",
       "| 1955 | 234.6667 | 247.3333 | 256.3333 | 268.6667 | 284.6667 | 316.3333 | 342.0000 | 341.0000 | 311.0000 | 274.3333 | 263.0000 | 266.3333 |\n",
       "| 1956 | 279.6667 | 292.6667 | 302.3333 | 316.0000 | 335.0000 | 368.3333 | 397.3333 | 391.0000 | 355.3333 | 310.6667 | 294.3333 | 297.3333 |\n",
       "| 1957 | 307.3333 | 324.0000 | 335.0000 | 353.0000 | 375.0000 | 414.0000 | 451.3333 | 445.3333 | 406.0000 | 352.0000 | 329.3333 | 327.0000 |\n",
       "| 1958 | 331.3333 | 340.0000 | 342.6667 | 357.6667 | 382.0000 | 429.6667 | 477.0000 | 466.6667 | 422.6667 | 357.6667 | 335.3333 | 335.6667 |\n",
       "| 1959 | 346.3333 | 369.3333 | 381.3333 | 407.3333 | 429.3333 | 480.0000 | 526.3333 | 523.3333 | 476.3333 | 410.6667 | 391.3333 | 394.6667 |\n",
       "| 1960 | 404.3333 | 409.0000 | 423.6667 | 450.6667 | 489.3333 | 543.0000 | 587.6667 | 578.6667 | 525.0000 | 453.0000 | 427.6667 |       NA |\n",
       "\n"
      ],
      "text/plain": [
       "     Jan      Feb      Mar      Apr      May      Jun      Jul      Aug     \n",
       "1949       NA 120.6667 126.3333 127.3333 128.3333 134.6667 143.6667 144.0000\n",
       "1950 119.6667 127.3333 134.0000 133.6667 136.3333 148.0000 163.0000 166.0000\n",
       "1951 145.0000 157.6667 163.6667 171.0000 171.0000 183.0000 192.0000 194.0000\n",
       "1952 172.3333 181.3333 184.6667 185.6667 194.0000 210.3333 230.0000 227.0000\n",
       "1953 195.3333 209.3333 222.3333 233.3333 235.6667 245.3333 259.6667 257.6667\n",
       "1954 197.6667 209.0000 216.6667 232.0000 241.6667 266.6667 286.3333 284.6667\n",
       "1955 234.6667 247.3333 256.3333 268.6667 284.6667 316.3333 342.0000 341.0000\n",
       "1956 279.6667 292.6667 302.3333 316.0000 335.0000 368.3333 397.3333 391.0000\n",
       "1957 307.3333 324.0000 335.0000 353.0000 375.0000 414.0000 451.3333 445.3333\n",
       "1958 331.3333 340.0000 342.6667 357.6667 382.0000 429.6667 477.0000 466.6667\n",
       "1959 346.3333 369.3333 381.3333 407.3333 429.3333 480.0000 526.3333 523.3333\n",
       "1960 404.3333 409.0000 423.6667 450.6667 489.3333 543.0000 587.6667 578.6667\n",
       "     Sep      Oct      Nov      Dec     \n",
       "1949 134.3333 119.6667 113.6667 112.3333\n",
       "1950 153.6667 135.0000 129.0000 133.0000\n",
       "1951 181.6667 164.0000 158.0000 161.0000\n",
       "1952 214.0000 190.6667 185.6667 187.3333\n",
       "1953 240.0000 209.3333 197.3333 195.0000\n",
       "1954 260.3333 230.3333 220.3333 224.6667\n",
       "1955 311.0000 274.3333 263.0000 266.3333\n",
       "1956 355.3333 310.6667 294.3333 297.3333\n",
       "1957 406.0000 352.0000 329.3333 327.0000\n",
       "1958 422.6667 357.6667 335.3333 335.6667\n",
       "1959 476.3333 410.6667 391.3333 394.6667\n",
       "1960 525.0000 453.0000 427.6667       NA"
      ]
     },
     "metadata": {},
     "output_type": "display_data"
    }
   ],
   "source": [
    "ma3 <- filter(AirPassengers, filter=rep(1/3, 3)) # filter 뜻은 최근 연달아 나온 3개의 데이터를 더해 3으로 나누어 평균을 내는 것. 따라서 제일 앞과 제일 뒤 값이 없다.\n",
    "ma3"
   ]
  },
  {
   "cell_type": "code",
   "execution_count": 8,
   "metadata": {
    "vscode": {
     "languageId": "r"
    }
   },
   "outputs": [
    {
     "data": {
      "text/html": [
       "120.666666666667"
      ],
      "text/latex": [
       "120.666666666667"
      ],
      "text/markdown": [
       "120.666666666667"
      ],
      "text/plain": [
       "[1] 120.6667"
      ]
     },
     "metadata": {},
     "output_type": "display_data"
    }
   ],
   "source": [
    "(112+118+132)/3 # Feb 1949 값과 같다."
   ]
  },
  {
   "cell_type": "code",
   "execution_count": 9,
   "metadata": {
    "vscode": {
     "languageId": "r"
    }
   },
   "outputs": [],
   "source": [
    "ma6 <- filter(AirPassengers, filter=rep(1/6, 6)) # 최근 6개의 데이터를 더해 6으로 나누어 평균을 내는 것.\n",
    "ma12 <- filter(AirPassengers, filter=rep(1/12, 12)) # 최근 12개의 데이터를 더해 12으로 나누어 평균을 내는 것."
   ]
  },
  {
   "cell_type": "code",
   "execution_count": 20,
   "metadata": {
    "vscode": {
     "languageId": "r"
    }
   },
   "outputs": [
    {
     "data": {
      "image/png": "[encoded data removed]",
      "text/plain": [
       "Plot with title \"12-points Moving Average\""
      ]
     },
     "metadata": {
      "image/png": {
       "height": 420,
       "width": 420
      }
     },
     "output_type": "display_data"
    }
   ],
   "source": [
    "par(mfrow = c(4, 1))\n",
    "plot(AirPassengers, main = \"AirPassengers: Original Data\")\n",
    "plot(ma3, main = \"3-points Moving Average\") # 매 3월의 데이터를 평균으로 나누어 값을 냄.\n",
    "plot(ma6, main = \"6-points Moving Average\") # 매 6월의 데이터를 평균으로 나누어 값을 냄.\n",
    "plot(ma12, main = \"12-points Moving Average\") # 매 12월의 데이터를 평균으로 나누어 값을 냄. 단점: Seasonality(계절성)이 완전히 사라져서 정보의 손실이 있음"
   ]
  },
  {
   "cell_type": "code",
   "execution_count": null,
   "metadata": {
    "vscode": {
     "languageId": "r"
    }
   },
   "outputs": [],
   "source": [
    "# Milk\n",
    "\n",
    "install.packages(\"TSA\")"
   ]
  },
  {
   "cell_type": "code",
   "execution_count": 26,
   "metadata": {
    "vscode": {
     "languageId": "r"
    }
   },
   "outputs": [
    {
     "name": "stderr",
     "output_type": "stream",
     "text": [
      "\n",
      "Attaching package: 'TSA'\n",
      "\n",
      "\n",
      "The following objects are masked from 'package:stats':\n",
      "\n",
      "    acf, arima\n",
      "\n",
      "\n",
      "The following object is masked from 'package:utils':\n",
      "\n",
      "    tar\n",
      "\n",
      "\n"
     ]
    }
   ],
   "source": [
    "library(TSA)"
   ]
  },
  {
   "cell_type": "code",
   "execution_count": 27,
   "metadata": {
    "vscode": {
     "languageId": "r"
    }
   },
   "outputs": [
    {
     "data": {
      "image/png": "[encoded data removed]",
      "text/plain": [
       "Plot with title \"12-points Moving Average\""
      ]
     },
     "metadata": {
      "image/png": {
       "height": 420,
       "width": 420
      }
     },
     "output_type": "display_data"
    }
   ],
   "source": [
    "data(milk)\n",
    "\n",
    "mm3 <- filter(milk, f = rep(1/3, 3))\n",
    "mm6 <- filter(milk, f = rep(1/6, 6))\n",
    "mm12 <- filter(milk, f = rep(1/12, 12))\n",
    "\n",
    "par(mfcol = c(4, 2)) #mfcol 사용해서 컬럼별로 나눔\n",
    "plot(milk, main = \"Milk: Original Data\")\n",
    "plot(mm3, main = \"3-points Moving Average\")\n",
    "plot(mm6, main = \"6-points Moving Average\")\n",
    "plot(mm12, main = \"12-points Moving Average\")\n",
    "\n",
    "plot(AirPassengers, main = \"AirPassengers: Original Data\")\n",
    "plot(ma3, main = \"3-points Moving Average\")\n",
    "plot(ma6, main = \"6-points Moving Average\")\n",
    "plot(ma12, main = \"12-points Moving Average\")"
   ]
  }
 ],
 "metadata": {
  "kernelspec": {
   "display_name": "R",
   "language": "R",
   "name": "ir"
  },
  "language_info": {
   "codemirror_mode": "r",
   "file_extension": ".r",
   "mimetype": "text/x-r-source",
   "name": "R",
   "pygments_lexer": "r",
   "version": "4.2.1"
  },
  "orig_nbformat": 4,
  "vscode": {
   "interpreter": {
    "hash": "5203595be8cc74f881166954ab43fdaa2d4816c717a0a12548e324032f15089e"
   }
  }
 },
 "nbformat": 4,
 "nbformat_minor": 2
}
